{
  "cells": [
    {
      "cell_type": "code",
      "source": [
        "from google.colab import drive\n",
        "drive.mount('/content/drive')"
      ],
      "metadata": {
        "colab": {
          "base_uri": "https://localhost:8080/"
        },
        "id": "V0jMiKeiVkTK",
        "outputId": "581fc8df-10a9-4689-8702-750eaa9dc0e7"
      },
      "execution_count": null,
      "outputs": [
        {
          "output_type": "stream",
          "name": "stdout",
          "text": [
            "Mounted at /content/drive\n"
          ]
        }
      ]
    },
    {
      "cell_type": "code",
      "execution_count": null,
      "metadata": {
        "colab": {
          "base_uri": "https://localhost:8080/"
        },
        "id": "DvtlJJNB6h1z",
        "outputId": "a17cb9a3-fa99-4dc5-d10d-8088dc1622ef"
      },
      "outputs": [
        {
          "output_type": "stream",
          "name": "stdout",
          "text": [
            "Requirement already satisfied: lief==0.12.2 in /usr/local/lib/python3.10/dist-packages (0.12.2)\n"
          ]
        }
      ],
      "source": [
        "!pip install pefile\n",
        "!pip install lief==0.12.2\n",
        "!pip install jupyter vega vega_datasets altair matplotlib"
      ]
    },
    {
      "cell_type": "code",
      "source": [
        "import os\n",
        "import pandas as pd\n",
        "import numpy as np\n",
        "import lief"
      ],
      "metadata": {
        "id": "ETMekPKOcIe6"
      },
      "execution_count": null,
      "outputs": []
    },
    {
      "cell_type": "markdown",
      "source": [
        "# Lưu đường dẫn tới các file PE thành arm.txt"
      ],
      "metadata": {
        "id": "EUyTN6FiZnIG"
      }
    },
    {
      "cell_type": "code",
      "execution_count": null,
      "metadata": {
        "colab": {
          "base_uri": "https://localhost:8080/"
        },
        "id": "ZTzYt9l9aKth",
        "outputId": "8068ee2d-a2a8-4175-b1e6-7f1a4597776b"
      },
      "outputs": [
        {
          "output_type": "stream",
          "name": "stdout",
          "text": [
            "Tạo thành công tệp /content/drive/MyDrive/UNZIP_BODMAS/arm.txt chứa đường dẫn của mỗi mẫu trong thư mục /content/drive/MyDrive/UNZIP_BODMAS/altered.\n"
          ]
        }
      ],
      "source": [
        "thu_muc_mau = '/content/drive/MyDrive/UNZIP_BODMAS/altered'\n",
        "\n",
        "ten_tep = '/content/drive/MyDrive/UNZIP_BODMAS/arm.txt'\n",
        "\n",
        "if not os.path.exists(thu_muc_mau):\n",
        "    print(f\"Thư mục '{thu_muc_mau}' không tồn tại.\")\n",
        "else:\n",
        "    # Lấy danh sách các đường dẫn tệp trong thư mục\n",
        "    danh_sach_duong_dan = [os.path.join(thu_muc_mau, tep) for tep in os.listdir(thu_muc_mau) if os.path.isfile(os.path.join(thu_muc_mau, tep))]\n",
        "\n",
        "    # Mở tệp để ghi\n",
        "    with open(ten_tep, 'w') as tep:\n",
        "        # Ghi từng đường dẫn vào tệp, mỗi đường dẫn trên một dòng\n",
        "        for duong_dan in danh_sach_duong_dan:\n",
        "            tep.write(f\"{duong_dan}\\n\")\n",
        "\n",
        "    print(f\"Tạo thành công tệp {ten_tep} chứa đường dẫn của mỗi mẫu trong thư mục {thu_muc_mau}.\")"
      ]
    },
    {
      "cell_type": "code",
      "source": [
        "# kiểm tra số dòng\n",
        "file_path = \"/content/drive/MyDrive/UNZIP_BODMAS/arm.txt\"\n",
        "with open(file_path, 'r') as file:\n",
        "    line_count = sum(1 for line in file)\n",
        "print(\"Number of lines in the file:\", line_count)\n"
      ],
      "metadata": {
        "colab": {
          "base_uri": "https://localhost:8080/"
        },
        "id": "uFeOhIlF7-Jw",
        "outputId": "daac3449-e676-4d85-f30a-d5fc1652929e"
      },
      "execution_count": null,
      "outputs": [
        {
          "output_type": "stream",
          "name": "stdout",
          "text": [
            "Number of lines in the file: 18953\n"
          ]
        }
      ]
    },
    {
      "cell_type": "markdown",
      "source": [
        "# Executable malware binaries"
      ],
      "metadata": {
        "id": "btQHc4mnb5On"
      }
    },
    {
      "cell_type": "code",
      "execution_count": null,
      "metadata": {
        "colab": {
          "base_uri": "https://localhost:8080/"
        },
        "id": "QZTbnFnzcSEu",
        "outputId": "17b06204-053f-44fb-f02c-e3d3b5e3e56a"
      },
      "outputs": [
        {
          "output_type": "stream",
          "name": "stdout",
          "text": [
            "nohup: redirecting stderr to stdout\n"
          ]
        }
      ],
      "source": [
        "#Create a folder under the same directory called `armed`, used to save restored binaries.\n",
        "!nohup python /content/drive/MyDrive/UNZIP_BODMAS/PE_modifier.py --filelist /content/drive/MyDrive/UNZIP_BODMAS/arm.txt --save_record \"/content/drive/MyDrive/UNZIP_BODMAS/meta_disarm.csv\" --altered_folder /content/drive/MyDrive/UNZIP_BODMAS/armed --arm > /content/drive/MyDrive/UNZIP_BODMAS/restore.log &\n"
      ]
    },
    {
      "cell_type": "markdown",
      "source": [
        "# Extracting feature vectors"
      ],
      "metadata": {
        "id": "WgexfVaScPvN"
      }
    },
    {
      "cell_type": "code",
      "execution_count": null,
      "metadata": {
        "id": "Go6mSmJdNFLW"
      },
      "outputs": [],
      "source": [
        "import sys\n",
        "sys.path.append('/content/drive/MyDrive/UNZIP_BODMAS/')\n",
        "from ember.features import PEFeatureExtractor, ExportsInfo, ExportsInfo, SectionInfo, HeaderFileInfo, GeneralFileInfo, ByteHistogram, ByteEntropyHistogram, ImportsInfo, StringExtractor"
      ]
    },
    {
      "cell_type": "code",
      "source": [
        "def read_hash_from_filename(file_path):\n",
        "    return os.path.basename(file_path).replace('.exe', '')\n",
        "\n",
        "raw_features_dict = {}\n",
        "def extract_features_from_folder(input_folder, output_file):\n",
        "    feature_extractor = PEFeatureExtractor()\n",
        "    metadata_df = pd.read_csv(\"/content/drive/MyDrive/UNZIP_BODMAS/bodmas_malware_category.csv\")\n",
        "    X = []\n",
        "    y = []\n",
        "    for root, dirs, files in os.walk(input_folder):\n",
        "        for file in files:\n",
        "            file_path = os.path.join(root, file)\n",
        "\n",
        "            # Read the content of the PE file\n",
        "            with open(file_path, 'rb') as f:\n",
        "                bytez = f.read()\n",
        "\n",
        "            sha = read_hash_from_filename(file_path)\n",
        "            # Extract features and label\n",
        "            features = feature_extractor.feature_vector(bytez)\n",
        "            if sha in metadata_df['sha256'].values:\n",
        "                # Retrieve the 'category' value for the corresponding SHA-256 hash\n",
        "                label = metadata_df.loc[metadata_df['sha256'] == sha, 'category'].values[0]\n",
        "            else:\n",
        "                label = '0'\n",
        "            X.append(features)\n",
        "            y.append(label)\n",
        "    # Convert lists to numpy arrays\n",
        "    X = np.array(X)\n",
        "    y = np.array(y)\n",
        "    # Save features and labels to npz file\n",
        "    np.savez(output_file, X=X, y=y)\n",
        "\n",
        "# Example usage\n",
        "extract_features_from_folder(\"/content/drive/MyDrive/UNZIP_BODMAS/armed\", \"/content/drive/MyDrive/UNZIP_BODMAS/output_features.npz\")\n"
      ],
      "metadata": {
        "id": "1g4RAMndEYUY"
      },
      "execution_count": null,
      "outputs": []
    },
    {
      "cell_type": "markdown",
      "source": [
        "# Reading ralated INFO"
      ],
      "metadata": {
        "id": "zgBMQoOMiLZa"
      }
    },
    {
      "cell_type": "code",
      "source": [
        "file_path='/content/drive/MyDrive/UNZIP_BODMAS/altered/414fc38377f245ab2f92796250835462ae5e8edc95924b541c1a063717dc4dc2.exe'\n",
        "with open(file_path, 'rb') as f:\n",
        "  bytez = f.read()\n",
        "  lief_binary = lief.PE.parse(list(bytez))\n",
        "  raw_header_info = HeaderFileInfo().raw_features(bytez, lief_binary)\n",
        "  raw_GeneralFileInfo = GeneralFileInfo().raw_features(bytez, lief_binary)\n",
        "  raw_SectionInfo = SectionInfo().raw_features(bytez, lief_binary)\n",
        "  raw_ByteHistogram = ByteHistogram().raw_features(bytez, lief_binary)\n",
        "  raw_ByteEntropyHistogram = ByteEntropyHistogram().raw_features(bytez, lief_binary)\n",
        "  raw_ImportsInfo = ImportsInfo().raw_features(bytez, lief_binary)\n",
        "  raw_StringExtractor = StringExtractor().raw_features(bytez, lief_binary)\n",
        "raw_header_info"
      ],
      "metadata": {
        "colab": {
          "base_uri": "https://localhost:8080/"
        },
        "id": "1ZTzrb3RXfXf",
        "outputId": "f9031688-b0ef-4b00-a458-af3cda10c83d"
      },
      "execution_count": null,
      "outputs": [
        {
          "output_type": "execute_result",
          "data": {
            "text/plain": [
              "{'coff': {'timestamp': 1524008923,\n",
              "  'machine': 'UNKNOWN',\n",
              "  'characteristics': ['CHARA_32BIT_MACHINE', 'EXECUTABLE_IMAGE']},\n",
              " 'optional': {'subsystem': 'UNKNOWN',\n",
              "  'dll_characteristics': ['NX_COMPAT', 'TERMINAL_SERVER_AWARE'],\n",
              "  'magic': 'PE32',\n",
              "  'major_image_version': 0,\n",
              "  'minor_image_version': 0,\n",
              "  'major_linker_version': 10,\n",
              "  'minor_linker_version': 0,\n",
              "  'major_operating_system_version': 5,\n",
              "  'minor_operating_system_version': 1,\n",
              "  'major_subsystem_version': 5,\n",
              "  'minor_subsystem_version': 1,\n",
              "  'sizeof_code': 99840,\n",
              "  'sizeof_headers': 1024,\n",
              "  'sizeof_heap_commit': 4096}}"
            ]
          },
          "metadata": {},
          "execution_count": 29
        }
      ]
    },
    {
      "cell_type": "code",
      "source": [
        "filename = '/content/drive/MyDrive/UNZIP_BODMAS/output_features.npz'\n",
        "data = np.load(filename)\n",
        "X = data['X']\n",
        "y = data['y']"
      ],
      "metadata": {
        "id": "akh-kQG42RTf"
      },
      "execution_count": null,
      "outputs": []
    },
    {
      "cell_type": "code",
      "source": [
        "unique_labels, counts = np.unique(y, return_counts=True)\n",
        "\n",
        "for label, count in zip(unique_labels, counts):\n",
        "    print(f\"Label {label}: {count}\")"
      ],
      "metadata": {
        "colab": {
          "base_uri": "https://localhost:8080/"
        },
        "id": "-komz_ypiuIn",
        "outputId": "0a3ad620-1fba-455a-90df-2e49257322eb"
      },
      "execution_count": null,
      "outputs": [
        {
          "output_type": "stream",
          "name": "stdout",
          "text": [
            "Label backdoor: 469\n",
            "Label cryptominer: 1\n",
            "Label downloader: 131\n",
            "Label dropper: 138\n",
            "Label informationstealer: 18\n",
            "Label pua: 2\n",
            "Label ransomware: 73\n",
            "Label trojan: 3918\n",
            "Label virus: 1\n",
            "Label worm: 1287\n"
          ]
        }
      ]
    },
    {
      "cell_type": "code",
      "source": [
        "# checking arm and disarm\n",
        "import os\n",
        "import pandas as pd\n",
        "\n",
        "input_folder = '/content/drive/MyDrive/UNZIP_BODMAS/altered'\n",
        "metadata_path = '/content/drive/MyDrive/UNZIP_BODMAS/Copy of bodmas_metadata.csv'\n",
        "\n",
        "# Read the metadata CSV into a DataFrame\n",
        "metadata_df = pd.read_csv(metadata_path)\n",
        "\n",
        "# Initialize a counter for files with empty 'family' values\n",
        "empty_family_count = 0\n",
        "\n",
        "# Iterate through files in the input folder\n",
        "for root, dirs, files in os.walk(input_folder):\n",
        "    for file in files:\n",
        "        file_path = os.path.join(root, file)\n",
        "\n",
        "        # Extract SHA-256 hash from the file name\n",
        "        sha = read_hash_from_filename(file_path)\n",
        "\n",
        "        # Check if the hash exists in the metadata DataFrame\n",
        "        if sha in metadata_df['sha'].values:\n",
        "            # Retrieve the 'family' value for the corresponding SHA-256 hash\n",
        "            family_value = metadata_df.loc[metadata_df['sha'] == sha, 'family'].values[0]\n",
        "\n",
        "            # Check if 'family' value is empty\n",
        "            if pd.isna(family_value) or family_value == \"\":\n",
        "                empty_family_count += 1\n",
        "\n",
        "# Print the count of files with empty 'family' values\n",
        "print(\"Number of files with empty 'family' values:\", empty_family_count)\n"
      ],
      "metadata": {
        "colab": {
          "base_uri": "https://localhost:8080/"
        },
        "id": "y_RledKNL8X1",
        "outputId": "2a777484-b781-4b3a-8b5e-66aa286e5fc2"
      },
      "execution_count": null,
      "outputs": [
        {
          "output_type": "stream",
          "name": "stdout",
          "text": [
            "Number of files with empty 'family' values: 0\n"
          ]
        }
      ]
    }
  ],
  "metadata": {
    "colab": {
      "provenance": [],
      "gpuType": "T4",
      "machine_shape": "hm"
    },
    "kernelspec": {
      "display_name": "Python 3",
      "name": "python3"
    },
    "language_info": {
      "name": "python"
    },
    "accelerator": "GPU"
  },
  "nbformat": 4,
  "nbformat_minor": 0
}